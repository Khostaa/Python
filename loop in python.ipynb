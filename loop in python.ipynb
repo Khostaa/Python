{
  "nbformat": 4,
  "nbformat_minor": 0,
  "metadata": {
    "colab": {
      "name": "assignment 3.ipynb",
      "provenance": [],
      "collapsed_sections": [],
      "authorship_tag": "ABX9TyNAO9GDP9crxHNlie9Kxmy1",
      "include_colab_link": true
    },
    "kernelspec": {
      "name": "python3",
      "display_name": "Python 3"
    },
    "language_info": {
      "name": "python"
    }
  },
  "cells": [
    {
      "cell_type": "markdown",
      "metadata": {
        "id": "view-in-github",
        "colab_type": "text"
      },
      "source": [
        "<a href=\"https://colab.research.google.com/github/Khosta17/codes/blob/main/loop%20in%20python.ipynb\" target=\"_parent\"><img src=\"https://colab.research.google.com/assets/colab-badge.svg\" alt=\"Open In Colab\"/></a>"
      ]
    },
    {
      "cell_type": "code",
      "metadata": {
        "colab": {
          "base_uri": "https://localhost:8080/",
          "height": 135
        },
        "id": "gNaMp0dQ6zo8",
        "outputId": "4c4aa6dc-53eb-4c9c-aad0-06720751f444"
      },
      "source": [
        "Name: Sunil Paudel"
      ],
      "execution_count": null,
      "outputs": [
        {
          "output_type": "error",
          "ename": "SyntaxError",
          "evalue": "ignored",
          "traceback": [
            "\u001b[0;36m  File \u001b[0;32m\"<ipython-input-1-80df235d1401>\"\u001b[0;36m, line \u001b[0;32m1\u001b[0m\n\u001b[0;31m    Name: Sunil Paudel\u001b[0m\n\u001b[0m                     ^\u001b[0m\n\u001b[0;31mSyntaxError\u001b[0m\u001b[0;31m:\u001b[0m invalid syntax\n"
          ]
        }
      ]
    },
    {
      "cell_type": "markdown",
      "metadata": {
        "id": "adtQ54VR64Mu"
      },
      "source": [
        "Assignment 4\n"
      ]
    },
    {
      "cell_type": "code",
      "metadata": {
        "colab": {
          "base_uri": "https://localhost:8080/"
        },
        "id": "yaRkXaFr69st",
        "outputId": "9bcd9631-0c96-4afe-b09c-79756fe68736"
      },
      "source": [
        "n=6\n",
        "for i in range (1,6):\n",
        "   for j in range(i,n):\n",
        "     print(i,end=\" \")\n",
        "   print(\"\\n\")\n",
        "i+=1\n",
        "\n"
      ],
      "execution_count": null,
      "outputs": [
        {
          "output_type": "stream",
          "text": [
            "1 1 1 1 1 \n",
            "\n",
            "2 2 2 2 \n",
            "\n",
            "3 3 3 \n",
            "\n",
            "4 4 \n",
            "\n",
            "5 \n",
            "\n"
          ],
          "name": "stdout"
        }
      ]
    },
    {
      "cell_type": "code",
      "metadata": {
        "colab": {
          "base_uri": "https://localhost:8080/"
        },
        "id": "0ZUvunFl-_lF",
        "outputId": "10a80510-29e0-4fbd-cb2c-25c4a47325fa"
      },
      "source": [
        "n=7\n",
        "for i in range(0,n):\n",
        "  print(\"0\",end=\" \")\n",
        "  for j in range(1,i+1):\n",
        "    m=i*j\n",
        "    print(m,end=\" \")\n",
        "  j+=1\n",
        "  print(\"\\n\")\n",
        "i+=1"
      ],
      "execution_count": null,
      "outputs": [
        {
          "output_type": "stream",
          "text": [
            "0 \n",
            "\n",
            "0 1 \n",
            "\n",
            "0 2 4 \n",
            "\n",
            "0 3 6 9 \n",
            "\n",
            "0 4 8 12 16 \n",
            "\n",
            "0 5 10 15 20 25 \n",
            "\n",
            "0 6 12 18 24 30 36 \n",
            "\n"
          ],
          "name": "stdout"
        }
      ]
    },
    {
      "cell_type": "code",
      "metadata": {
        "colab": {
          "base_uri": "https://localhost:8080/"
        },
        "id": "dwf9gQdkGWav",
        "outputId": "c34e4e3b-ced8-4005-99b4-b5b51a65c9d9"
      },
      "source": [
        "price={\"noodle\":20,\n",
        "       \"rice\":1700,\n",
        "       \"biscuit\":10,\n",
        "       \"flour\":500,\n",
        "       \"peas\":60,\n",
        "       \"mango\":100,\n",
        "       \"cabbage\":75,\n",
        "       \"cucumber\":50,\n",
        "       \"carrot\":55,\n",
        "       \"lady finger\":45}\n",
        "print(price)\n",
        "m=0\n",
        "selection= \"y\"\n",
        "while(selection==\"y\" or selection==\"Y\"):\n",
        "  x=input(\"Enter an item name to buy:\")\n",
        "  selection=input(\"make your selection(y for yes/ n for no ):\")\n",
        "  m+=price.get(x)\n",
        "\n",
        "t=m\n",
        "print(f\"The total amount is {t}\")\n"
      ],
      "execution_count": 80,
      "outputs": [
        {
          "output_type": "stream",
          "text": [
            "{'noodle': 20, 'rice': 1700, 'biscuit': 10, 'flour': 500, 'peas': 60, 'mango': 100, 'cabbage': 75, 'cucumber': 50, 'carrot': 55, 'lady finger': 45}\n",
            "Enter an item name to buy:rice\n",
            "make your selection(y for yes/ n for no ):y\n",
            "Enter an item name to buy:flour\n",
            "make your selection(y for yes/ n for no ):y\n",
            "Enter an item name to buy:mango\n",
            "make your selection(y for yes/ n for no ):y\n",
            "Enter an item name to buy:cabbage\n",
            "make your selection(y for yes/ n for no ):n\n",
            "The total amount is 2375\n"
          ],
          "name": "stdout"
        }
      ]
    },
    {
      "cell_type": "code",
      "metadata": {
        "id": "kK27VX80QJ4M"
      },
      "source": [
        ""
      ],
      "execution_count": null,
      "outputs": []
    },
    {
      "cell_type": "code",
      "metadata": {
        "colab": {
          "base_uri": "https://localhost:8080/",
          "height": 207
        },
        "id": "Fz9ye6EvHQa3",
        "outputId": "872d1ae9-6420-4027-9f39-64519a34eeb2"
      },
      "source": [
        "a=22\n",
        "b=45\n",
        "print(a+b)"
      ],
      "execution_count": null,
      "outputs": [
        {
          "output_type": "error",
          "ename": "NameError",
          "evalue": "ignored",
          "traceback": [
            "\u001b[0;31m---------------------------------------------------------------------------\u001b[0m",
            "\u001b[0;31mNameError\u001b[0m                                 Traceback (most recent call last)",
            "\u001b[0;32m<ipython-input-58-6782a569df2c>\u001b[0m in \u001b[0;36m<module>\u001b[0;34m()\u001b[0m\n\u001b[0;32m----> 1\u001b[0;31m \u001b[0ma\u001b[0m\u001b[0;34m=\u001b[0m\u001b[0mRs22\u001b[0m\u001b[0;34m\u001b[0m\u001b[0;34m\u001b[0m\u001b[0m\n\u001b[0m\u001b[1;32m      2\u001b[0m \u001b[0mb\u001b[0m\u001b[0;34m=\u001b[0m\u001b[0mRs45\u001b[0m\u001b[0;34m\u001b[0m\u001b[0;34m\u001b[0m\u001b[0m\n\u001b[1;32m      3\u001b[0m \u001b[0mprint\u001b[0m\u001b[0;34m(\u001b[0m\u001b[0ma\u001b[0m\u001b[0;34m+\u001b[0m\u001b[0mb\u001b[0m\u001b[0;34m)\u001b[0m\u001b[0;34m\u001b[0m\u001b[0;34m\u001b[0m\u001b[0m\n",
            "\u001b[0;31mNameError\u001b[0m: name 'Rs22' is not defined"
          ]
        }
      ]
    }
  ]
}